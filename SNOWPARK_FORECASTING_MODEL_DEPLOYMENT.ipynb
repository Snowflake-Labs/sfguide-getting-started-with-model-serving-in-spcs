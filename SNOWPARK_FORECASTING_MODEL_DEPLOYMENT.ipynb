{
 "cells": [
  {
   "attachments": {},
   "cell_type": "markdown",
   "id": "c16b0392-d9c3-4808-9d51-f6fdb3836599",
   "metadata": {
    "collapsed": false,
    "name": "Introduction"
   },
   "source": [
    "# Snowflake ML Intro Notebook - ML Forecasting\n",
    "This notebook introduces several key features of Snowflake ML in the process of training a machine learning model for forecasting Chicago bus ridership.\n",
    "\n",
    "\n",
    "* Establish secure connection to Snowflake\n",
    "* Load features and target from Snowflake table into Snowpark DataFrame\n",
    "* Add features into a feature store\n",
    "* Prepare features for model training\n",
    "* Train ML model using Snowpark ML distributed processing\n",
    "* Save the model to the Snowflake Model Registry\n",
    "* Run model predictions inside Snowflake\n",
    "* Deploy model to Snowflake Container Services\n",
    "\n",
    "This notebook is intended to highlight Snowflake functionality and should not be taken as a best practice for time series forecasting. \n",
    "\n",
    "[Get Notebook](https://github.com/rajshah4/snowflake-notebooks/blob/main/Forecasting_ChicagoBus/Snowpark_Forecasting_Bus_FeatureStore.ipynb)  \n",
    "\n",
    "[Go to folder with dataset](https://github.com/rajshah4/snowflake-notebooks/blob/main/Forecasting_ChicagoBus/)  "
   ]
  },
  {
   "attachments": {},
   "cell_type": "markdown",
   "id": "9d8296c5-1007-4682-acf1-979969dd741f",
   "metadata": {
    "collapsed": false,
    "name": "Part_1"
   },
   "source": [
    "## 1. Setup Environment"
   ]
  },
  {
   "cell_type": "code",
   "execution_count": null,
   "id": "f938fd65-6fa2-48c3-9519-e5d7e8dfb69c",
   "metadata": {
    "language": "python",
    "name": "env_setup",
    "papermill": {
     "duration": 0.872363,
     "end_time": "2021-05-15T09:33:41.413139",
     "exception": false,
     "start_time": "2021-05-15T09:33:40.540776",
     "status": "completed"
    },
    "tags": []
   },
   "outputs": [],
   "source": [
    "# Snowflake connector\n",
    "#from snowflake import connector\n",
    "#from snowflake.ml.utils import connection_params\n",
    "\n",
    "# Snowpark for Python\n",
    "from snowflake.snowpark.session import Session\n",
    "from snowflake.snowpark.types import Variant\n",
    "from snowflake.snowpark.version import VERSION\n",
    "from snowflake.snowpark import functions as F\n",
    "from snowflake.snowpark.types import *\n",
    "\n",
    "# Snowpark ML\n",
    "from snowflake.ml.modeling.compose import ColumnTransformer\n",
    "from snowflake.ml.modeling.pipeline import Pipeline\n",
    "from snowflake.ml.modeling.preprocessing import StandardScaler, OrdinalEncoder\n",
    "from snowflake.ml.modeling.impute import SimpleImputer\n",
    "from snowflake.ml.modeling.model_selection import GridSearchCV\n",
    "from snowflake.ml.modeling.xgboost import XGBRegressor\n",
    "from snowflake.ml import version\n",
    "mlversion = version.VERSION\n",
    "\n",
    "#Feature Store\n",
    "from snowflake.ml.feature_store import FeatureStore, CreationMode, Entity, FeatureView\n",
    "\n",
    "# Misc\n",
    "import pandas as pd\n",
    "import json\n",
    "import logging \n",
    "logger = logging.getLogger(\"snowflake.snowpark.session\")\n",
    "logger.setLevel(logging.ERROR)\n",
    "\n",
    "import sys\n",
    "print(sys.version) ##Last run used Python 3.11\n",
    "\n",
    "session = get_active_session()\n",
    "\n"
   ]
  },
  {
   "cell_type": "code",
   "execution_count": 82,
   "id": "6d13f515-6736-4046-b999-683641c3bfec",
   "metadata": {
    "language": "python",
    "name": "get_active_session"
   },
   "outputs": [],
   "source": [
    "# Create a session with the specified connection parameters\n",
    "session = get_active_session()\n",
    "\n",
    "from snowflake.core.warehouse import Warehouse\n",
    "from snowflake.core import Root\n",
    "root = Root(session)"
   ]
  },
  {
   "cell_type": "code",
   "execution_count": null,
   "id": "74d85bd4-8b31-4f5a-808c-f201f2c6fc02",
   "metadata": {
    "language": "python",
    "name": "print_session_details"
   },
   "outputs": [],
   "source": [
    "snowflake_environment = session.sql('select current_user(), current_version()').collect()\n",
    "snowpark_version = VERSION\n",
    "\n",
    "# Current Environment Details\n",
    "print('User                        : {}'.format(snowflake_environment[0][0]))\n",
    "print('Role                        : {}'.format(session.get_current_role()))\n",
    "print('Database                    : {}'.format(session.get_current_database()))\n",
    "print('Schema                      : {}'.format(session.get_current_schema()))\n",
    "print('Warehouse                   : {}'.format(session.get_current_warehouse()))\n",
    "print('Snowflake version           : {}'.format(snowflake_environment[0][1]))\n",
    "print('Snowpark for Python version : {}.{}.{}'.format(snowpark_version[0],snowpark_version[1],snowpark_version[2]))\n",
    "print('Snowflake ML version        : {}.{}.{}'.format(mlversion[0],mlversion[2],mlversion[4]))\n"
   ]
  },
  {
   "cell_type": "code",
   "execution_count": null,
   "id": "7b05b4ad-f752-4c51-bf87-c5a60beda85e",
   "metadata": {
    "language": "python",
    "name": "create_schema"
   },
   "outputs": [],
   "source": [
    "session.sql(\"CREATE OR REPLACE SCHEMA ML_DEMO\").collect()\n",
    "session.sql(\"USE SCHEMA ML_DEMO\").collect()"
   ]
  },
  {
   "cell_type": "code",
   "execution_count": 85,
   "id": "3a143e5b-8164-497b-a5d8-05715d0364a4",
   "metadata": {
    "language": "python",
    "name": "feature_store_creation"
   },
   "outputs": [],
   "source": [
    "fs = FeatureStore(\n",
    "    session=session,\n",
    "    database=\"MODEL_SERVING_DB\",\n",
    "    name=\"FEATURE_STORE_MLDEMO\",\n",
    "    default_warehouse=\"DEMO_BUILD_WH\",\n",
    "    creation_mode=CreationMode.CREATE_IF_NOT_EXIST,\n",
    ")"
   ]
  },
  {
   "attachments": {},
   "cell_type": "markdown",
   "id": "374ee13d-02c4-45c9-9b6b-c107c561d55e",
   "metadata": {
    "name": "Part_2"
   },
   "source": [
    "## 2. Load Data in Snowflake "
   ]
  },
  {
   "cell_type": "code",
   "execution_count": null,
   "id": "e687f6cd-b3f8-4005-8a85-ed8f6e3afd6a",
   "metadata": {
    "language": "python",
    "name": "read_csv_load_data"
   },
   "outputs": [],
   "source": [
    "df_clean = pd.read_csv('CTA_Daily_Totals_by_Route.csv')\n",
    "df_clean.columns = df_clean.columns.str.upper()\n",
    "print (df_clean.shape)\n",
    "print (df_clean.dtypes)\n",
    "df_clean.head()"
   ]
  },
  {
   "cell_type": "markdown",
   "id": "bdca7b2a-42fa-4bc1-8082-1979bc532e6b",
   "metadata": {
    "name": "cell15"
   },
   "source": [
    "Let's create a Snowpark dataframe and split the data for test/train. This operation is done inside Snowflake and not in your local environment. We will also save this as a table so we don't ever have to manually upload this dataset again.\n",
    "\n",
    "PRO TIP -- Snowpark will inherit the schema of a pandas dataframe into Snowflake. Either change your schema before importing or after it has landed in snowflake. People that put models into production are very careful about data types."
   ]
  },
  {
   "cell_type": "code",
   "execution_count": null,
   "id": "8761d3d4-54f9-4dc7-9f49-3d06939e658f",
   "metadata": {
    "language": "python",
    "name": "create_df"
   },
   "outputs": [],
   "source": [
    "input_df = session.create_dataframe(df_clean)\n",
    "schema = input_df.schema\n",
    "print(schema)"
   ]
  },
  {
   "cell_type": "code",
   "execution_count": 88,
   "id": "c5583312-d73d-4c12-aefd-b5326ba8bce4",
   "metadata": {
    "language": "python",
    "name": "write_df"
   },
   "outputs": [],
   "source": [
    "input_df.write.mode('overwrite').save_as_table('MODEL_SERVING_DB.FEATURE_STORE_MLDEMO.CHICAGO_BUS_RIDES')"
   ]
  },
  {
   "cell_type": "markdown",
   "id": "3c4d689b-728d-4935-927b-32ee1581d3b7",
   "metadata": {
    "collapsed": false,
    "name": "cell18"
   },
   "source": [
    "Let's read from the table, since that is generally what you will be doing in production. "
   ]
  },
  {
   "cell_type": "code",
   "execution_count": null,
   "id": "4f5ff972-11fe-440e-9895-5137ae57f662",
   "metadata": {
    "language": "python",
    "name": "read_df"
   },
   "outputs": [],
   "source": [
    "df = session.read.table('MODEL_SERVING_DB.FEATURE_STORE_MLDEMO.CHICAGO_BUS_RIDES')\n",
    "print (df.count())\n",
    "df.show()"
   ]
  },
  {
   "cell_type": "markdown",
   "id": "059d0c4a-7500-4fe1-9755-62584b0baee5",
   "metadata": {
    "name": "cell20"
   },
   "source": [
    "An entity is an abstraction over a set of primary keys used for looking up feature data. An Entity represents a real-world \"thing\" that has data associated with it. Below cell registers an entity called \"route\" in Feature Store."
   ]
  },
  {
   "cell_type": "code",
   "execution_count": null,
   "id": "45438915-b6cd-421b-86be-9e8ffcc78923",
   "metadata": {
    "language": "python",
    "name": "register_entity"
   },
   "outputs": [],
   "source": [
    "entity = Entity(\n",
    "    name=\"route\",\n",
    "    join_keys=[\"DATE\"],\n",
    ")\n",
    "fs.register_entity(entity)\n",
    "\n",
    "#Show the entities\n",
    "fs.list_entities().show()"
   ]
  },
  {
   "cell_type": "markdown",
   "id": "4e49d1ba-a409-4b09-9a37-72f8d69afbe6",
   "metadata": {
    "name": "Part_3"
   },
   "source": [
    "## 3. Distributed Feature Engineering\n",
    "\n",
    "Let's do some feature engineering and then move that logic to the feature store. The feature engineering includes: adding a day of the week and aggregation the data by day and then later joining in weather data.\n",
    "\n",
    "These operations are done inside the Snowpark warehouse which provides improved performance and scalability with distributed execution for these scikit-learn preprocessing functions. This dataset uses SMALL, but you can always move up to larger ones including Snowpark Optimized warehouses (16x memory per node than a standard warehouse), e.g., `session.sql(\"create or replace warehouse snowpark_opt_wh with warehouse_size = 'MEDIUM' warehouse_type = 'SNOWPARK-OPTIMIZED'\").collect()`"
   ]
  },
  {
   "cell_type": "code",
   "execution_count": null,
   "id": "d2fab9ed-541d-46dd-8478-04cf08657b11",
   "metadata": {
    "language": "python",
    "name": "create_wh"
   },
   "outputs": [],
   "source": [
    "session.sql(\"create or replace warehouse snowpark_opt_wh with warehouse_size = 'MEDIUM' warehouse_type = 'SNOWPARK-OPTIMIZED'\").collect()"
   ]
  },
  {
   "cell_type": "markdown",
   "id": "1e94ca88-e703-459f-973d-9fc8008dc9f9",
   "metadata": {
    "name": "cell24"
   },
   "source": [
    "Simple feature engineering"
   ]
  },
  {
   "cell_type": "code",
   "execution_count": null,
   "id": "8319bc00-4a7d-47c6-b742-c5761c2fec3f",
   "metadata": {
    "language": "python",
    "name": "Feature_engineering_1"
   },
   "outputs": [],
   "source": [
    "from snowflake.snowpark.functions import col, to_timestamp, dayofweek, month,sum, listagg, lag\n",
    "from snowflake.snowpark import Window\n",
    "\n",
    "df = df.with_column('DATE', to_timestamp(col('DATE'), 'MM/DD/YYYY'))\n",
    "\n",
    "# Add a new column for the day of the week\n",
    "# The day of week is represented as an integer, with 0 = Sunday, 1 = Monday, ..., 6 = Saturday\n",
    "df = df.with_column('DAY_OF_WEEK', dayofweek(col('DATE')))\n",
    "\n",
    "df.show()"
   ]
  },
  {
   "cell_type": "code",
   "execution_count": null,
   "id": "f543b439-e021-449b-a183-953931b96e45",
   "metadata": {
    "language": "python",
    "name": "Feature_engineering_2"
   },
   "outputs": [],
   "source": [
    "# Add a new column for the month\n",
    "df = df.with_column('MONTH', month(col('DATE')))\n",
    "\n",
    "# Group by DATE, DAY_OF_WEEK, and MONTH, then aggregate\n",
    "total_riders = df.group_by('DATE','DAY_OF_WEEK','MONTH').agg(\n",
    "    F.listagg('DAYTYPE', is_distinct=True).alias('DAYTYPE'),\n",
    "    F.sum('RIDES').alias('TOTAL_RIDERS')\n",
    ").order_by('DATE')\n",
    "\n",
    "#Define a window specification\n",
    "window_spec = Window.order_by('DATE')\n",
    "\n",
    "# Add a lagged column for total ridership of the previous day\n",
    "total_riders = total_riders.with_column('PREV_DAY_RIDERS', lag(col('TOTAL_RIDERS'), 1).over(window_spec))\n",
    "\n",
    "# Show the resulting dataframe\n",
    "print (total_riders.count())\n",
    "print (total_riders.show())"
   ]
  },
  {
   "cell_type": "markdown",
   "id": "3f332342-afe0-4641-aac9-a60a58a9e55a",
   "metadata": {
    "name": "cell29"
   },
   "source": [
    "\n",
    "**Feature Views**"
   ]
  },
  {
   "cell_type": "code",
   "execution_count": null,
   "id": "7ed3bdc1-5f9a-4729-a19c-eaf216ed04d8",
   "metadata": {
    "language": "python",
    "name": "FV_register"
   },
   "outputs": [],
   "source": [
    "agg_fv = FeatureView(\n",
    "    name=\"AggBusData\",\n",
    "    entities=[entity],\n",
    "    feature_df=total_riders,\n",
    "    timestamp_col=\"DATE\",\n",
    ")\n",
    "\n",
    "agg_fv = fs.register_feature_view(agg_fv, version=\"1\", overwrite=True)\n",
    "\n",
    "# Show our newly created Feature View and display as Pandas DataFrame\n",
    "fs.list_feature_views().to_pandas()"
   ]
  },
  {
   "cell_type": "code",
   "execution_count": null,
   "id": "dc03d476-13a1-4eb5-81b5-a69b0fafd3ee",
   "metadata": {
    "language": "python",
    "name": "FV_get_feature_view"
   },
   "outputs": [],
   "source": [
    "agg_fv = fs.get_feature_view(\n",
    "    name=\"AGGBUSDATA\",\n",
    "    version=\"1\"\n",
    ")"
   ]
  },
  {
   "cell_type": "markdown",
   "id": "26de5255-1374-4397-9bc2-c68c44afbb96",
   "metadata": {
    "collapsed": false,
    "name": "cell32"
   },
   "source": [
    "## Join in the Weather Data from the Snowflake Marketplace\n",
    "\n",
    "Instead of downloading data and building pipelines, Snowflake has a lot of useful data, including weather data in it's Marketplace. This means the data is only a SQL query away. \n",
    "\n",
    " [Cybersyn Weather](https://app.snowflake.com/marketplace/listing/GZTSZAS2KIM/cybersyn-inc-weather-environmental-essentials?search=weather)\n",
    "\n",
    "SQL QUERY: \n",
    "```\n",
    "SELECT\n",
    "  ts.noaa_weather_station_id,\n",
    "  ts.DATE,\n",
    "  COALESCE(MAX(CASE WHEN ts.variable = 'minimum_temperature' THEN ts.Value ELSE NULL END), 0) AS minimum_temperature,\n",
    "  COALESCE(MAX(CASE WHEN ts.variable = 'precipitation' THEN ts.Value ELSE NULL END), 0) AS precipitation,\n",
    "  COALESCE(MAX(CASE WHEN ts.variable = 'maximum_temperature' THEN ts.Value ELSE NULL END), 0) AS maximum_temperature\n",
    "FROM\n",
    "  cybersyn.noaa_weather_metrics_timeseries AS ts\n",
    "JOIN\n",
    "  cybersyn.noaa_weather_station_index AS idx\n",
    "ON\n",
    "  (ts.noaa_weather_station_id = idx.noaa_weather_station_id)\n",
    "WHERE\n",
    "  idx.NOAA_WEATHER_STATION_ID = 'USW00014819'\n",
    "  AND (ts.VARIABLE = 'minimum_temperature' OR ts.VARIABLE = 'precipitation' OR ts.VARIABLE = 'maximum_temperature')\n",
    "GROUP BY\n",
    "  ts.noaa_weather_station_id,\n",
    "  ts.DATE\n",
    "LIMIT 1000;\n",
    "```\n"
   ]
  },
  {
   "cell_type": "code",
   "execution_count": null,
   "id": "23b29f2b-dcbd-4cee-83a7-4c8052e8dec3",
   "metadata": {
    "language": "sql",
    "name": "CTAS_TABLE"
   },
   "outputs": [],
   "source": [
    "create or replace table MODEL_SERVING_DB.FEATURE_STORE_MLDEMO.CHICAGO_WEATHER\n",
    "as \n",
    "SELECT\n",
    "  ts.noaa_weather_station_id,\n",
    "  ts.DATE,\n",
    "  COALESCE(MAX(CASE WHEN ts.variable = 'minimum_temperature' THEN ts.Value ELSE NULL END), 0) AS minimum_temperature,\n",
    "  COALESCE(MAX(CASE WHEN ts.variable = 'precipitation' THEN ts.Value ELSE NULL END), 0) AS precipitation,\n",
    "  COALESCE(MAX(CASE WHEN ts.variable = 'maximum_temperature' THEN ts.Value ELSE NULL END), 0) AS maximum_temperature\n",
    "FROM\n",
    "  WEATHER__ENVIRONMENT.cybersyn.noaa_weather_metrics_timeseries AS ts\n",
    "JOIN\n",
    "  WEATHER__ENVIRONMENT.cybersyn.noaa_weather_station_index AS idx\n",
    "ON\n",
    "  (ts.noaa_weather_station_id = idx.noaa_weather_station_id)\n",
    "WHERE\n",
    "  idx.NOAA_WEATHER_STATION_ID = 'USW00014819'\n",
    "  AND (ts.VARIABLE = 'minimum_temperature' OR ts.VARIABLE = 'precipitation' OR ts.VARIABLE = 'maximum_temperature')\n",
    "GROUP BY\n",
    "  ts.noaa_weather_station_id,\n",
    "  ts.DATE"
   ]
  },
  {
   "cell_type": "code",
   "execution_count": null,
   "id": "7b1e5ed3-57d5-4880-b460-6aa03823a79d",
   "metadata": {
    "language": "python",
    "name": "read_table"
   },
   "outputs": [],
   "source": [
    "weather = session.read.table('MODEL_SERVING_DB.FEATURE_STORE_MLDEMO.CHICAGO_WEATHER')\n",
    "\n",
    "from snowflake.snowpark.types import DoubleType\n",
    "weather = weather.withColumn('MINIMUM_TEMPERATURE', weather['MINIMUM_TEMPERATURE'].cast(DoubleType()))\n",
    "weather = weather.withColumn('MAXIMUM_TEMPERATURE', weather['MAXIMUM_TEMPERATURE'].cast(DoubleType()))\n",
    "weather = weather.withColumn('PRECIPITATION', weather['PRECIPITATION'].cast(DoubleType()))\n",
    "\n",
    "weather.show()"
   ]
  },
  {
   "cell_type": "markdown",
   "id": "9212751a-ab71-4ad2-8492-990f855186d2",
   "metadata": {
    "name": "cell34"
   },
   "source": [
    "Creating a feature view here for the weather data. This feature view will refresh every 24 hours. This is essential data that is constantly changing and Snowflake uses a dynamic table to manage the process. "
   ]
  },
  {
   "cell_type": "code",
   "execution_count": 96,
   "id": "e9d1de39-18bf-44b2-9037-6a1ac37204da",
   "metadata": {
    "language": "python",
    "name": "FV_register_new"
   },
   "outputs": [],
   "source": [
    "weather_fv = FeatureView(\n",
    "    name=\"weather\",\n",
    "    entities=[entity],\n",
    "    feature_df=weather,\n",
    "    timestamp_col=\"DATE\",\n",
    "    refresh_freq=\"1 day\", \n",
    ")\n",
    "\n",
    "weather_fv = fs.register_feature_view(weather_fv, version=\"1\", overwrite=True)"
   ]
  },
  {
   "cell_type": "code",
   "execution_count": null,
   "id": "f8e2ef36-d714-4167-9a3c-fe9aefc9b2f7",
   "metadata": {
    "language": "python",
    "name": "FV_getFV"
   },
   "outputs": [],
   "source": [
    "weather_fv= fs.get_feature_view(\n",
    "    name=\"weather\",\n",
    "    version=\"1\"\n",
    ")"
   ]
  },
  {
   "cell_type": "markdown",
   "id": "6747c720-b94d-4dce-b9e9-d69e62ad89f1",
   "metadata": {
    "name": "cell36"
   },
   "source": [
    "## Generate Training Dataset\n",
    "\n",
    "Our feature store is filled with data, but we don't need to use it all. Here we select a subset of the feature store for training. "
   ]
  },
  {
   "cell_type": "code",
   "execution_count": 97,
   "id": "329dd03a-6fe4-4c5a-928f-e039d7206858",
   "metadata": {
    "language": "python",
    "name": "cell37"
   },
   "outputs": [],
   "source": [
    "# Create a date range between 2017 and 2019\n",
    "date_range = pd.date_range(start='01/01/2013', end='12/31/2019')\n",
    "date_column = date_range.strftime('%m/%d/%Y')\n",
    "df = pd.DataFrame(date_column, columns=['DATE'])\n",
    "spine_df = session.create_dataframe(df)"
   ]
  },
  {
   "cell_type": "markdown",
   "id": "be672d4e-8d47-4fba-bc74-c2b7514f26e7",
   "metadata": {
    "name": "cell38"
   },
   "source": [
    "Generate a training dataset "
   ]
  },
  {
   "cell_type": "code",
   "execution_count": 98,
   "id": "36ec5282-a38f-4a4d-bc8b-d49f93b894f8",
   "metadata": {
    "language": "python",
    "name": "cell39"
   },
   "outputs": [],
   "source": [
    "training_set = fs.generate_training_set(\n",
    "    spine_df=spine_df,\n",
    "    features=[agg_fv,weather_fv])"
   ]
  },
  {
   "cell_type": "code",
   "execution_count": null,
   "id": "965d34de-5a22-4bf9-917a-83b2fb5ec9d7",
   "metadata": {
    "language": "python",
    "name": "cell40"
   },
   "outputs": [],
   "source": [
    "training_set.show()"
   ]
  },
  {
   "cell_type": "code",
   "execution_count": 100,
   "id": "b9220c28-da59-43c0-8e50-43300fdcd39b",
   "metadata": {
    "language": "python",
    "name": "cell41"
   },
   "outputs": [],
   "source": [
    "## Dropping any null values\n",
    "from snowflake.snowpark.functions import col, is_null, to_date\n",
    "\n",
    "# Create a filter condition for non-finite values across all columns\n",
    "non_finite_filter = None\n",
    "\n",
    "# Iterate over all columns and update the filter condition\n",
    "for column in training_set.columns:\n",
    "    current_filter = is_null(col(column))\n",
    "    non_finite_filter = current_filter if non_finite_filter is None else (non_finite_filter | current_filter)\n",
    "\n",
    "# Apply the filter to the DataFrame to exclude rows with any non-finite values\n",
    "df_filtered = training_set.filter(~non_finite_filter)"
   ]
  },
  {
   "cell_type": "code",
   "execution_count": 101,
   "id": "e007debd-a76a-49e2-8d97-24438b3191d5",
   "metadata": {
    "language": "python",
    "name": "cell42"
   },
   "outputs": [],
   "source": [
    "#Split the data into training and test sets\n",
    "df_filtered = df_filtered.withColumn(\"DATE\", to_date(col(\"DATE\"), 'MM/dd/yyyy'))\n",
    "train = df_filtered.filter(col('DATE') < '01/01/2019')\n",
    "test = df_filtered.filter(col('DATE') >= '01/01/2019')"
   ]
  },
  {
   "cell_type": "code",
   "execution_count": null,
   "id": "3ed065a4-0a47-42d8-bcd9-3a7da8a6593d",
   "metadata": {
    "language": "python",
    "name": "cell43"
   },
   "outputs": [],
   "source": [
    "print (train.count())\n",
    "print (test.count())"
   ]
  },
  {
   "cell_type": "code",
   "execution_count": null,
   "id": "94088142-2a05-4b6f-8cfc-5e6a19437542",
   "metadata": {
    "language": "python",
    "name": "cell92"
   },
   "outputs": [],
   "source": [
    "schema_info = train.schema\n",
    "\n",
    "for field in schema_info.fields:\n",
    "    print(f\"Column: {field.name}, Type: {field.datatype}\")\n",
    "\n",
    "train = train.with_column(\"DATE\", col(\"DATE\").cast(\"STRING\"))\n",
    "test = test.with_column(\"DATE\", col(\"DATE\").cast(\"STRING\"))"
   ]
  },
  {
   "cell_type": "markdown",
   "id": "9a36cbc0-43fc-48f1-849e-a8431a3f000e",
   "metadata": {
    "name": "cell44"
   },
   "source": [
    "## 4. Distributed Feature Engineering in a Pipeline\n",
    "\n",
    "Feature engineering + XGBoost"
   ]
  },
  {
   "cell_type": "code",
   "execution_count": null,
   "id": "6537d39a-cb2d-4267-b093-caa6e1cbe6cf",
   "metadata": {
    "language": "python",
    "name": "cell45"
   },
   "outputs": [],
   "source": [
    "session.sql(\"create or replace warehouse snowpark_opt_wh with warehouse_size = 'MEDIUM' warehouse_type = 'SNOWPARK-OPTIMIZED'\").collect()\n",
    "session.sql(\"alter warehouse snowpark_opt_wh set max_concurrency_level = 1\").collect()"
   ]
  },
  {
   "cell_type": "code",
   "execution_count": 104,
   "id": "74cfc448-5eba-442d-a339-df76fb672672",
   "metadata": {
    "language": "python",
    "name": "cell46"
   },
   "outputs": [],
   "source": [
    " ## Distributed Preprocessing - 25X to 50X faster\n",
    "numeric_features = ['DAY_OF_WEEK','MONTH','PREV_DAY_RIDERS','MINIMUM_TEMPERATURE','MAXIMUM_TEMPERATURE','PRECIPITATION']\n",
    "numeric_transformer = Pipeline(steps=[('scaler', StandardScaler())])\n",
    "\n",
    "categorical_cols = ['DAYTYPE']\n",
    "categorical_transformer = Pipeline(steps=[\n",
    "    ('imputer', SimpleImputer(strategy='most_frequent')),\n",
    "    ('onehot', OrdinalEncoder(handle_unknown='use_encoded_value',unknown_value=-99999))\n",
    "])\n",
    "\n",
    "preprocessor = ColumnTransformer(\n",
    "    transformers=[\n",
    "        ('num', numeric_transformer, numeric_features),\n",
    "        ('cat', categorical_transformer, categorical_cols)\n",
    "        ])\n",
    "\n",
    "pipeline = Pipeline(steps=[('preprocessor', preprocessor),('model', XGBRegressor())])"
   ]
  },
  {
   "cell_type": "markdown",
   "id": "c857f096-4ff7-40e3-835f-4e7685c3ca58",
   "metadata": {
    "name": "cell47"
   },
   "source": [
    "## 5. Distributed Training\n",
    "\n",
    "These operations are done inside the Snowpark warehouse which provides improved performance and scalability with distributed execution for these scikit-learn preprocessing functions, hyperparameter tuning (grid and random) and XGBoost training (and many other types of models)."
   ]
  },
  {
   "cell_type": "code",
   "execution_count": null,
   "id": "280aa022-eab0-4fcb-8278-9eb569057ab9",
   "metadata": {
    "language": "python",
    "name": "cell48"
   },
   "outputs": [],
   "source": [
    " ## Distributed HyperParameter Optimization\n",
    "hyper_param = dict(\n",
    "        model__max_depth=[2,4],\n",
    "        model__learning_rate=[0.1,0.3],\n",
    "    )\n",
    "\n",
    "xg_model = GridSearchCV(\n",
    "    estimator=pipeline,\n",
    "    param_grid=hyper_param,\n",
    "    #cv=5,\n",
    "    input_cols=numeric_features + categorical_cols,\n",
    "    label_cols=['TOTAL_RIDERS'],\n",
    "    output_cols=[\"TOTAL_RIDERS_FORECAST\"],\n",
    ")\n",
    "\n",
    "# Fit and Score\n",
    "xg_model.fit(train)\n",
    "##Takes 25 seconds"
   ]
  },
  {
   "cell_type": "markdown",
   "id": "88bbc9c6-58f3-468e-850e-b03081a45f3d",
   "metadata": {
    "name": "cell49"
   },
   "source": [
    "## 6. Model Evaluation\n",
    "Look at the results of the mode. cv_results is a dictionary, where each key is a string describing one of the metrics or parameters, and the corresponding value is an array with one entry per combination of parameters"
   ]
  },
  {
   "cell_type": "code",
   "execution_count": null,
   "id": "7fb836c4-7cc6-4394-be17-7a04cfe21ac0",
   "metadata": {
    "language": "python",
    "name": "cell50"
   },
   "outputs": [],
   "source": [
    "session.sql(\"create or replace warehouse snowpark_opt_wh with warehouse_size = 'SMALL'\").collect()"
   ]
  },
  {
   "cell_type": "code",
   "execution_count": null,
   "id": "b373d391-2d8b-4400-8a1d-4b188a4d1076",
   "metadata": {
    "language": "python",
    "name": "cell51"
   },
   "outputs": [],
   "source": [
    "cv_results = xg_model.to_sklearn().cv_results_\n",
    "\n",
    "for i in range(len(cv_results['params'])):\n",
    "    print(f\"Parameters: {cv_results['params'][i]}\")\n",
    "    print(f\"Mean Test Score: {cv_results['mean_test_score'][i]}\")\n",
    "    print()"
   ]
  },
  {
   "cell_type": "markdown",
   "id": "59ba867e-3f65-44c8-b9bd-85b1ee72ce67",
   "metadata": {
    "name": "cell52"
   },
   "source": [
    "Look at the accuracy of the model"
   ]
  },
  {
   "cell_type": "code",
   "execution_count": null,
   "id": "8628031c-a605-47c8-bfd4-1d079935381a",
   "metadata": {
    "language": "python",
    "name": "cell53"
   },
   "outputs": [],
   "source": [
    "from snowflake.ml.modeling.metrics import mean_absolute_error\n",
    "testpreds = xg_model.predict(test)\n",
    "print('MSE:', mean_absolute_error(df=testpreds, y_true_col_names='TOTAL_RIDERS', y_pred_col_names='\"TOTAL_RIDERS_FORECAST\"'))\n",
    "testpreds.select(\"DATE\", \"TOTAL_RIDERS\", \"TOTAL_RIDERS_FORECAST\").show(10)         "
   ]
  },
  {
   "cell_type": "markdown",
   "id": "89d682aa-67bc-4e62-a4ad-1ec0660b22f6",
   "metadata": {
    "name": "cell54"
   },
   "source": [
    "Materialize the results to a table"
   ]
  },
  {
   "cell_type": "code",
   "execution_count": 109,
   "id": "211e0f7c-c7cd-41fe-a572-600ca1d49dd9",
   "metadata": {
    "language": "python",
    "name": "cell55"
   },
   "outputs": [],
   "source": [
    "testpreds.write.save_as_table(table_name='MODEL_SERVING_DB.FEATURE_STORE_MLDEMO.CHICAGO_BUS_RIDES_FORECAST', mode='overwrite')"
   ]
  },
  {
   "cell_type": "markdown",
   "id": "c402685b-49eb-41f7-a884-c2bb776e5b79",
   "metadata": {
    "name": "cell56"
   },
   "source": [
    "Using metrics from snowpark so calculation is done inside snowflake"
   ]
  },
  {
   "cell_type": "markdown",
   "id": "bcf36747-a63a-4520-94aa-04224a26bd97",
   "metadata": {
    "name": "cell57"
   },
   "source": [
    "## 7. Save to the Model Registry and use for Predictions (Python & SQL)\n",
    "\n",
    "Connect to the registry"
   ]
  },
  {
   "cell_type": "code",
   "execution_count": 110,
   "id": "e3556bd8-545d-4d3d-891b-7a1353ddc6cd",
   "metadata": {
    "language": "python",
    "name": "cell58"
   },
   "outputs": [],
   "source": [
    "from snowflake.ml.registry import Registry\n",
    "reg = Registry(session=session, database_name=\"MODEL_SERVING_DB\", schema_name=\"FEATURE_STORE_MLDEMO\")"
   ]
  },
  {
   "cell_type": "code",
   "execution_count": null,
   "id": "65944e00-a57b-421f-bbf6-1f1ac3fab0ad",
   "metadata": {
    "language": "python",
    "name": "cell59"
   },
   "outputs": [],
   "source": [
    "model_ref = reg.log_model(\n",
    "    model_name=\"Forecasting_Bus_Ridership\",\n",
    "    version_name=\"v2\",    \n",
    "    model=xg_model,\n",
    "    target_platforms=[\"WAREHOUSE\"],\n",
    "    conda_dependencies=[\"scikit-learn\",\"xgboost\"],\n",
    "    sample_input_data=train,\n",
    "    comment=\"XGBoost model, Oct 9\"\n",
    ")"
   ]
  },
  {
   "cell_type": "markdown",
   "id": "38af6632-5871-4cb5-a158-ca051594cb03",
   "metadata": {
    "name": "cell60"
   },
   "source": [
    "Let's retrieve the model from the registry"
   ]
  },
  {
   "cell_type": "code",
   "execution_count": 112,
   "id": "19637273-8e29-4968-aac9-98812b3e9a8d",
   "metadata": {
    "language": "python",
    "name": "cell61"
   },
   "outputs": [],
   "source": [
    "reg_model = reg.get_model(\"Forecasting_Bus_Ridership\").version(\"v2\")"
   ]
  },
  {
   "cell_type": "code",
   "execution_count": null,
   "id": "f5de8b9e-8857-4f5a-9a24-a71b123c96e8",
   "metadata": {
    "language": "sql",
    "name": "cell93"
   },
   "outputs": [],
   "source": [
    "DESC MODEL MODEL_SERVING_DB.FEATURE_STORE_MLDEMO.Forecasting_Bus_Ridership"
   ]
  },
  {
   "cell_type": "markdown",
   "id": "cb20e774-86fc-42ec-aa49-4b1610317438",
   "metadata": {
    "name": "cell64"
   },
   "source": [
    "Let's do predictions inside the warehouse for some evaluation"
   ]
  },
  {
   "cell_type": "code",
   "execution_count": null,
   "id": "56d91486-fd53-4ef5-b664-40d0d90b99ce",
   "metadata": {
    "language": "python",
    "name": "cell66"
   },
   "outputs": [],
   "source": [
    "remote_prediction = reg_model.run(test, function_name='predict')\n",
    "remote_prediction.sort(\"DATE\").select(\"DATE\",\"TOTAL_RIDERS\",\"TOTAL_RIDERS_FORECAST\").show(10)"
   ]
  },
  {
   "cell_type": "markdown",
   "id": "2fa65a63-d2c9-4acd-a3be-373b950bcc00",
   "metadata": {
    "name": "cell67"
   },
   "source": [
    "save evaluation metrics in the model registry"
   ]
  },
  {
   "cell_type": "code",
   "execution_count": 116,
   "id": "e60aeb21-d2f3-468e-9125-c8f14bec61d5",
   "metadata": {
    "language": "python",
    "name": "cell68"
   },
   "outputs": [],
   "source": [
    "from snowflake.ml.modeling.metrics import mean_absolute_error\n",
    "mae = mean_absolute_error(df=remote_prediction, y_true_col_names='TOTAL_RIDERS', y_pred_col_names='\"TOTAL_RIDERS_FORECAST\"')\n",
    "reg_model.set_metric(\"MAE\", value=mae)"
   ]
  },
  {
   "cell_type": "code",
   "execution_count": null,
   "id": "b4a40b09-522f-42cc-a57e-0e6f15358035",
   "metadata": {
    "language": "python",
    "name": "cell69"
   },
   "outputs": [],
   "source": [
    "reg_model.show_metrics()"
   ]
  },
  {
   "cell_type": "markdown",
   "id": "ae014392-95b7-4ea0-a965-837badccca80",
   "metadata": {
    "name": "cell73"
   },
   "source": [
    "## 8. Get Shap Explanations"
   ]
  },
  {
   "cell_type": "code",
   "execution_count": 120,
   "id": "997fc0cf-dcb2-425c-ab0f-82043be75d56",
   "metadata": {
    "language": "python",
    "name": "cell74"
   },
   "outputs": [],
   "source": [
    "explanations = reg_model.run(test, function_name=\"explain\")"
   ]
  },
  {
   "cell_type": "markdown",
   "id": "030dd21e-426b-400e-8419-78abd9958246",
   "metadata": {
    "name": "cell75"
   },
   "source": [
    "## 9. Show lineage"
   ]
  },
  {
   "cell_type": "code",
   "execution_count": 121,
   "id": "7da70410-c88b-4d9d-8b40-7c3a7b7a3a03",
   "metadata": {
    "language": "python",
    "name": "cell76"
   },
   "outputs": [],
   "source": [
    "TABLE_NAME = \"MODEL_SERVING_DB.FEATURE_STORE_MLDEMO.CHICAGO_BUS_RIDES_FORECAST\"\n",
    "df = session.lineage.trace(f\"MODEL_SERVING_DB.FEATURE_STORE_MLDEMO.CHICAGO_BUS_RIDES\", \"TABLE\", direction=\"downstream\", distance=4)"
   ]
  },
  {
   "cell_type": "code",
   "execution_count": null,
   "id": "6faea357-4e1f-4623-ba16-713be40d1349",
   "metadata": {
    "language": "python",
    "name": "cell77"
   },
   "outputs": [],
   "source": [
    "df.show()"
   ]
  },
  {
   "cell_type": "code",
   "execution_count": null,
   "id": "1b323695-3b6e-4e21-bfd7-82a3ee74c86e",
   "metadata": {
    "language": "python",
    "name": "cell78"
   },
   "outputs": [],
   "source": [
    "session.sql(\"create or replace warehouse snowpark_opt_wh with warehouse_size = 'SMALL'\").collect()"
   ]
  },
  {
   "cell_type": "markdown",
   "id": "4a68795e-c9a1-4f68-bcaf-8ea48eff7ed1",
   "metadata": {
    "name": "cell79"
   },
   "source": [
    "## 10. Deploy the model to SPCS for Inference\n",
    "\n",
    "It's now possible to deploy and run a model in Snowpark Container Services (SPCS), thus making Snowflake Model Registry more universal and useful by supporting large models that need distributed clusters or GPUs for execution, or that have pip dependencies on OSS or user’s own libraries and frameworks. All of these benefits can be realized without mastering knowledge of docker containers, kubernetes, etc."
   ]
  },
  {
   "cell_type": "code",
   "execution_count": null,
   "id": "6f0eba2f-876f-4030-93fc-9184d1024de0",
   "metadata": {
    "language": "sql",
    "name": "cell1"
   },
   "outputs": [],
   "source": [
    "CREATE COMPUTE POOL mypool\n",
    "  MIN_NODES = 1\n",
    "  MAX_NODES = 1\n",
    "  INSTANCE_FAMILY = GPU_NV_S;\n",
    "\n",
    "ALTER COMPUTE POOL mypool SET AUTO_RESUME = true; \n",
    "\n",
    "describe compute pool mypool;\n",
    "\n",
    "create or replace schema notebooks;\n",
    "\n",
    "create or replace image repository MODEL_SERVING_DB.notebooks.my_inference_images;\n",
    "\n",
    "CREATE OR REPLACE NETWORK RULE allow_all_rule\n",
    "MODE = 'EGRESS'\n",
    "TYPE = 'HOST_PORT'\n",
    "VALUE_LIST = ('0.0.0.0:443','0.0.0.0:80');\n",
    "\n",
    "alter NETWORK RULE allow_all_rule set value_list = ('0.0.0.0:443','0.0.0.0:80','<YOUR_ACCOUNT_IDENTIFIER>.snowflakecomputing.com');\n",
    "\n",
    "-- Please create a public and private key \n",
    "alter user XXXX  SET RSA_PUBLIC_KEY='XXXXX';\n",
    "\n",
    "CREATE OR REPLACE EXTERNAL ACCESS INTEGRATION allow_all_integration\n",
    "ALLOWED_NETWORK_RULES = (allow_all_rule)\n",
    "ENABLED = true;"
   ]
  },
  {
   "cell_type": "code",
   "execution_count": null,
   "id": "75e2bfe1-50e4-489d-a571-8af7d83e2166",
   "metadata": {
    "language": "python",
    "name": "cell80"
   },
   "outputs": [],
   "source": [
    "reg_model.create_service(service_name=\"ChicagoBusForecastv12\",\n",
    "                  service_compute_pool=\"mypool\",\n",
    "                  image_repo=\"MODEL_SERVING_DB.notebooks.my_inference_images\",\n",
    "                  build_external_access_integration=\"allow_all_integration\",\n",
    "                  ingress_enabled=True)"
   ]
  },
  {
   "cell_type": "code",
   "execution_count": null,
   "id": "acfb2895-30f0-493b-845a-7b2d3a9c47f2",
   "metadata": {
    "language": "python",
    "name": "cell81"
   },
   "outputs": [],
   "source": [
    "spcs_prediction = reg_model.run(test, function_name='predict', service_name=\"CHICAGOBUSFORECASTV12\")\n",
    "spcs_prediction.sort(\"DATE\").select(\"DATE\",\"TOTAL_RIDERS\",\"TOTAL_RIDERS_FORECAST\").show(10)"
   ]
  },
  {
   "cell_type": "code",
   "execution_count": null,
   "id": "7beafc07-4eeb-421b-ae5f-1d8a08e137ff",
   "metadata": {
    "language": "python",
    "name": "cell82"
   },
   "outputs": [],
   "source": [
    "session.sql(\"SHOW ENDPOINTS IN SERVICE MODEL_SERVING_DB.FEATURE_STORE_MLDEMO.CHICAGOBUSFORECASTV12\").collect()"
   ]
  }
 ],
 "metadata": {
  "kernelspec": {
   "display_name": "Python 3.8.13 ('snowpark')",
   "language": "python",
   "name": "python3"
  },
  "language_info": {
   "codemirror_mode": {
    "name": "ipython",
    "version": 3
   },
   "file_extension": ".py",
   "mimetype": "text/x-python",
   "name": "python",
   "nbconvert_exporter": "python",
   "pygments_lexer": "ipython3",
   "version": "3.11.7"
  },
  "lastEditStatus": {
   "authorEmail": "adrian.lee@snowflake.com",
   "authorId": "297982923545",
   "authorName": "ADRIAN",
   "lastEditTime": 1749973523705,
   "notebookId": "zyyu6qxz5pjlf3gvux42",
   "sessionId": "f3a9a3a8-3032-435e-9b7d-4b35134ac205"
  },
  "papermill": {
   "default_parameters": {},
   "duration": 41.012855,
   "end_time": "2021-05-15T09:34:14.646782",
   "environment_variables": {},
   "exception": null,
   "input_path": "__notebook__.ipynb",
   "output_path": "__notebook__.ipynb",
   "parameters": {},
   "start_time": "2021-05-15T09:33:33.633927",
   "version": "2.3.3"
  },
  "vscode": {
   "interpreter": {
    "hash": "4fb0a37530c0004d75c43dbcefc0b8b6ea2fdc6f87c96f7fd6f8cf43b3f551c7"
   }
  },
  "widgets": {
   "application/vnd.jupyter.widget-state+json": {
    "state": {
     "03486abb248b48dcae43183c9ffb112a": {
      "model_module": "@jupyter-widgets/controls",
      "model_module_version": "1.5.0",
      "model_name": "DescriptionStyleModel",
      "state": {
       "_model_module": "@jupyter-widgets/controls",
       "_model_module_version": "1.5.0",
       "_model_name": "DescriptionStyleModel",
       "_view_count": null,
       "_view_module": "@jupyter-widgets/base",
       "_view_module_version": "1.2.0",
       "_view_name": "StyleView",
       "description_width": ""
      }
     },
     "0539c58479b749dd99898d49f43ebcef": {
      "model_module": "@jupyter-widgets/controls",
      "model_module_version": "1.5.0",
      "model_name": "FloatProgressModel",
      "state": {
       "_dom_classes": [],
       "_model_module": "@jupyter-widgets/controls",
       "_model_module_version": "1.5.0",
       "_model_name": "FloatProgressModel",
       "_view_count": null,
       "_view_module": "@jupyter-widgets/controls",
       "_view_module_version": "1.5.0",
       "_view_name": "ProgressView",
       "bar_style": "success",
       "description": "",
       "description_tooltip": null,
       "layout": "IPY_MODEL_d097f3c35ec644bfa231be2d2fd50129",
       "max": 1,
       "min": 0,
       "orientation": "horizontal",
       "style": "IPY_MODEL_0be3e122c58347b79c67cbdfc6939065",
       "value": 1
      }
     },
     "0be3e122c58347b79c67cbdfc6939065": {
      "model_module": "@jupyter-widgets/controls",
      "model_module_version": "1.5.0",
      "model_name": "ProgressStyleModel",
      "state": {
       "_model_module": "@jupyter-widgets/controls",
       "_model_module_version": "1.5.0",
       "_model_name": "ProgressStyleModel",
       "_view_count": null,
       "_view_module": "@jupyter-widgets/base",
       "_view_module_version": "1.2.0",
       "_view_name": "StyleView",
       "bar_color": null,
       "description_width": ""
      }
     },
     "0debf43d9ebe494fa0871bc085432a31": {
      "model_module": "@jupyter-widgets/controls",
      "model_module_version": "1.5.0",
      "model_name": "HBoxModel",
      "state": {
       "_dom_classes": [],
       "_model_module": "@jupyter-widgets/controls",
       "_model_module_version": "1.5.0",
       "_model_name": "HBoxModel",
       "_view_count": null,
       "_view_module": "@jupyter-widgets/controls",
       "_view_module_version": "1.5.0",
       "_view_name": "HBoxView",
       "box_style": "",
       "children": [
        "IPY_MODEL_7ea526b1e9bd43cdb270777b5f62a95e",
        "IPY_MODEL_0539c58479b749dd99898d49f43ebcef",
        "IPY_MODEL_5f80a955ced34cef86bc307a7a17ad50"
       ],
       "layout": "IPY_MODEL_4cea8ab8f6094c87a13a8b690c87c778"
      }
     },
     "106409d46bfe43f19cfedaa975ba2cc8": {
      "model_module": "@jupyter-widgets/controls",
      "model_module_version": "1.5.0",
      "model_name": "HBoxModel",
      "state": {
       "_dom_classes": [],
       "_model_module": "@jupyter-widgets/controls",
       "_model_module_version": "1.5.0",
       "_model_name": "HBoxModel",
       "_view_count": null,
       "_view_module": "@jupyter-widgets/controls",
       "_view_module_version": "1.5.0",
       "_view_name": "HBoxView",
       "box_style": "",
       "children": [
        "IPY_MODEL_79579de4686940fb87277980fb3b9033",
        "IPY_MODEL_1ee9a30ab6f14e9f890b0bc1aabad3db",
        "IPY_MODEL_60a533bb74804344b7e871fbf50d7630"
       ],
       "layout": "IPY_MODEL_b810367f103a4e4e9c5be322df67d4c9"
      }
     },
     "137e5d876fda44a481e04a46ce3d52c5": {
      "model_module": "@jupyter-widgets/base",
      "model_module_version": "1.2.0",
      "model_name": "LayoutModel",
      "state": {
       "_model_module": "@jupyter-widgets/base",
       "_model_module_version": "1.2.0",
       "_model_name": "LayoutModel",
       "_view_count": null,
       "_view_module": "@jupyter-widgets/base",
       "_view_module_version": "1.2.0",
       "_view_name": "LayoutView",
       "align_content": null,
       "align_items": null,
       "align_self": null,
       "border": null,
       "bottom": null,
       "display": null,
       "flex": null,
       "flex_flow": null,
       "grid_area": null,
       "grid_auto_columns": null,
       "grid_auto_flow": null,
       "grid_auto_rows": null,
       "grid_column": null,
       "grid_gap": null,
       "grid_row": null,
       "grid_template_areas": null,
       "grid_template_columns": null,
       "grid_template_rows": null,
       "height": null,
       "justify_content": null,
       "justify_items": null,
       "left": null,
       "margin": null,
       "max_height": null,
       "max_width": null,
       "min_height": null,
       "min_width": null,
       "object_fit": null,
       "object_position": null,
       "order": null,
       "overflow": null,
       "overflow_x": null,
       "overflow_y": null,
       "padding": null,
       "right": null,
       "top": null,
       "visibility": null,
       "width": null
      }
     },
     "1ee9a30ab6f14e9f890b0bc1aabad3db": {
      "model_module": "@jupyter-widgets/controls",
      "model_module_version": "1.5.0",
      "model_name": "FloatProgressModel",
      "state": {
       "_dom_classes": [],
       "_model_module": "@jupyter-widgets/controls",
       "_model_module_version": "1.5.0",
       "_model_name": "FloatProgressModel",
       "_view_count": null,
       "_view_module": "@jupyter-widgets/controls",
       "_view_module_version": "1.5.0",
       "_view_name": "ProgressView",
       "bar_style": "success",
       "description": "",
       "description_tooltip": null,
       "layout": "IPY_MODEL_896278c20baf49bc9483c86dbe28e6db",
       "max": 1,
       "min": 0,
       "orientation": "horizontal",
       "style": "IPY_MODEL_214ce6435877469e8aec9b089f0a5b2b",
       "value": 1
      }
     },
     "214ce6435877469e8aec9b089f0a5b2b": {
      "model_module": "@jupyter-widgets/controls",
      "model_module_version": "1.5.0",
      "model_name": "ProgressStyleModel",
      "state": {
       "_model_module": "@jupyter-widgets/controls",
       "_model_module_version": "1.5.0",
       "_model_name": "ProgressStyleModel",
       "_view_count": null,
       "_view_module": "@jupyter-widgets/base",
       "_view_module_version": "1.2.0",
       "_view_name": "StyleView",
       "bar_color": null,
       "description_width": ""
      }
     },
     "22828e38a6f84e388c66ed37fd49e1a3": {
      "model_module": "@jupyter-widgets/base",
      "model_module_version": "1.2.0",
      "model_name": "LayoutModel",
      "state": {
       "_model_module": "@jupyter-widgets/base",
       "_model_module_version": "1.2.0",
       "_model_name": "LayoutModel",
       "_view_count": null,
       "_view_module": "@jupyter-widgets/base",
       "_view_module_version": "1.2.0",
       "_view_name": "LayoutView",
       "align_content": null,
       "align_items": null,
       "align_self": null,
       "border": null,
       "bottom": null,
       "display": null,
       "flex": null,
       "flex_flow": null,
       "grid_area": null,
       "grid_auto_columns": null,
       "grid_auto_flow": null,
       "grid_auto_rows": null,
       "grid_column": null,
       "grid_gap": null,
       "grid_row": null,
       "grid_template_areas": null,
       "grid_template_columns": null,
       "grid_template_rows": null,
       "height": null,
       "justify_content": null,
       "justify_items": null,
       "left": null,
       "margin": null,
       "max_height": null,
       "max_width": null,
       "min_height": null,
       "min_width": null,
       "object_fit": null,
       "object_position": null,
       "order": null,
       "overflow": null,
       "overflow_x": null,
       "overflow_y": null,
       "padding": null,
       "right": null,
       "top": null,
       "visibility": null,
       "width": null
      }
     },
     "2476936f36354c0582cf209811858769": {
      "model_module": "@jupyter-widgets/controls",
      "model_module_version": "1.5.0",
      "model_name": "ProgressStyleModel",
      "state": {
       "_model_module": "@jupyter-widgets/controls",
       "_model_module_version": "1.5.0",
       "_model_name": "ProgressStyleModel",
       "_view_count": null,
       "_view_module": "@jupyter-widgets/base",
       "_view_module_version": "1.2.0",
       "_view_name": "StyleView",
       "bar_color": null,
       "description_width": ""
      }
     },
     "3047235624bd4df4b992d459afbad807": {
      "model_module": "@jupyter-widgets/base",
      "model_module_version": "1.2.0",
      "model_name": "LayoutModel",
      "state": {
       "_model_module": "@jupyter-widgets/base",
       "_model_module_version": "1.2.0",
       "_model_name": "LayoutModel",
       "_view_count": null,
       "_view_module": "@jupyter-widgets/base",
       "_view_module_version": "1.2.0",
       "_view_name": "LayoutView",
       "align_content": null,
       "align_items": null,
       "align_self": null,
       "border": null,
       "bottom": null,
       "display": null,
       "flex": null,
       "flex_flow": null,
       "grid_area": null,
       "grid_auto_columns": null,
       "grid_auto_flow": null,
       "grid_auto_rows": null,
       "grid_column": null,
       "grid_gap": null,
       "grid_row": null,
       "grid_template_areas": null,
       "grid_template_columns": null,
       "grid_template_rows": null,
       "height": null,
       "justify_content": null,
       "justify_items": null,
       "left": null,
       "margin": null,
       "max_height": null,
       "max_width": null,
       "min_height": null,
       "min_width": null,
       "object_fit": null,
       "object_position": null,
       "order": null,
       "overflow": null,
       "overflow_x": null,
       "overflow_y": null,
       "padding": null,
       "right": null,
       "top": null,
       "visibility": null,
       "width": null
      }
     },
     "3c0e879486d5463db0fa09977f4f5e7b": {
      "model_module": "@jupyter-widgets/base",
      "model_module_version": "1.2.0",
      "model_name": "LayoutModel",
      "state": {
       "_model_module": "@jupyter-widgets/base",
       "_model_module_version": "1.2.0",
       "_model_name": "LayoutModel",
       "_view_count": null,
       "_view_module": "@jupyter-widgets/base",
       "_view_module_version": "1.2.0",
       "_view_name": "LayoutView",
       "align_content": null,
       "align_items": null,
       "align_self": null,
       "border": null,
       "bottom": null,
       "display": null,
       "flex": null,
       "flex_flow": null,
       "grid_area": null,
       "grid_auto_columns": null,
       "grid_auto_flow": null,
       "grid_auto_rows": null,
       "grid_column": null,
       "grid_gap": null,
       "grid_row": null,
       "grid_template_areas": null,
       "grid_template_columns": null,
       "grid_template_rows": null,
       "height": null,
       "justify_content": null,
       "justify_items": null,
       "left": null,
       "margin": null,
       "max_height": null,
       "max_width": null,
       "min_height": null,
       "min_width": null,
       "object_fit": null,
       "object_position": null,
       "order": null,
       "overflow": null,
       "overflow_x": null,
       "overflow_y": null,
       "padding": null,
       "right": null,
       "top": null,
       "visibility": null,
       "width": null
      }
     },
     "421538af4b344eb285a1049283fceb43": {
      "model_module": "@jupyter-widgets/base",
      "model_module_version": "1.2.0",
      "model_name": "LayoutModel",
      "state": {
       "_model_module": "@jupyter-widgets/base",
       "_model_module_version": "1.2.0",
       "_model_name": "LayoutModel",
       "_view_count": null,
       "_view_module": "@jupyter-widgets/base",
       "_view_module_version": "1.2.0",
       "_view_name": "LayoutView",
       "align_content": null,
       "align_items": null,
       "align_self": null,
       "border": null,
       "bottom": null,
       "display": null,
       "flex": null,
       "flex_flow": null,
       "grid_area": null,
       "grid_auto_columns": null,
       "grid_auto_flow": null,
       "grid_auto_rows": null,
       "grid_column": null,
       "grid_gap": null,
       "grid_row": null,
       "grid_template_areas": null,
       "grid_template_columns": null,
       "grid_template_rows": null,
       "height": null,
       "justify_content": null,
       "justify_items": null,
       "left": null,
       "margin": null,
       "max_height": null,
       "max_width": null,
       "min_height": null,
       "min_width": null,
       "object_fit": null,
       "object_position": null,
       "order": null,
       "overflow": null,
       "overflow_x": null,
       "overflow_y": null,
       "padding": null,
       "right": null,
       "top": null,
       "visibility": null,
       "width": null
      }
     },
     "4cea8ab8f6094c87a13a8b690c87c778": {
      "model_module": "@jupyter-widgets/base",
      "model_module_version": "1.2.0",
      "model_name": "LayoutModel",
      "state": {
       "_model_module": "@jupyter-widgets/base",
       "_model_module_version": "1.2.0",
       "_model_name": "LayoutModel",
       "_view_count": null,
       "_view_module": "@jupyter-widgets/base",
       "_view_module_version": "1.2.0",
       "_view_name": "LayoutView",
       "align_content": null,
       "align_items": null,
       "align_self": null,
       "border": null,
       "bottom": null,
       "display": null,
       "flex": null,
       "flex_flow": null,
       "grid_area": null,
       "grid_auto_columns": null,
       "grid_auto_flow": null,
       "grid_auto_rows": null,
       "grid_column": null,
       "grid_gap": null,
       "grid_row": null,
       "grid_template_areas": null,
       "grid_template_columns": null,
       "grid_template_rows": null,
       "height": null,
       "justify_content": null,
       "justify_items": null,
       "left": null,
       "margin": null,
       "max_height": null,
       "max_width": null,
       "min_height": null,
       "min_width": null,
       "object_fit": null,
       "object_position": null,
       "order": null,
       "overflow": null,
       "overflow_x": null,
       "overflow_y": null,
       "padding": null,
       "right": null,
       "top": null,
       "visibility": null,
       "width": null
      }
     },
     "59f46be901ef49cea5e361a23bc258f0": {
      "model_module": "@jupyter-widgets/base",
      "model_module_version": "1.2.0",
      "model_name": "LayoutModel",
      "state": {
       "_model_module": "@jupyter-widgets/base",
       "_model_module_version": "1.2.0",
       "_model_name": "LayoutModel",
       "_view_count": null,
       "_view_module": "@jupyter-widgets/base",
       "_view_module_version": "1.2.0",
       "_view_name": "LayoutView",
       "align_content": null,
       "align_items": null,
       "align_self": null,
       "border": null,
       "bottom": null,
       "display": null,
       "flex": null,
       "flex_flow": null,
       "grid_area": null,
       "grid_auto_columns": null,
       "grid_auto_flow": null,
       "grid_auto_rows": null,
       "grid_column": null,
       "grid_gap": null,
       "grid_row": null,
       "grid_template_areas": null,
       "grid_template_columns": null,
       "grid_template_rows": null,
       "height": null,
       "justify_content": null,
       "justify_items": null,
       "left": null,
       "margin": null,
       "max_height": null,
       "max_width": null,
       "min_height": null,
       "min_width": null,
       "object_fit": null,
       "object_position": null,
       "order": null,
       "overflow": null,
       "overflow_x": null,
       "overflow_y": null,
       "padding": null,
       "right": null,
       "top": null,
       "visibility": null,
       "width": null
      }
     },
     "5f80a955ced34cef86bc307a7a17ad50": {
      "model_module": "@jupyter-widgets/controls",
      "model_module_version": "1.5.0",
      "model_name": "HTMLModel",
      "state": {
       "_dom_classes": [],
       "_model_module": "@jupyter-widgets/controls",
       "_model_module_version": "1.5.0",
       "_model_name": "HTMLModel",
       "_view_count": null,
       "_view_module": "@jupyter-widgets/controls",
       "_view_module_version": "1.5.0",
       "_view_name": "HTMLView",
       "description": "",
       "description_tooltip": null,
       "layout": "IPY_MODEL_c800f4d86d7f4cb595f97bdd36d14c8f",
       "placeholder": "​",
       "style": "IPY_MODEL_ebd7ac3b623a410a88be5c4d72e48986",
       "value": " 1/1 [00:00&lt;00:00,  1.66it/s]"
      }
     },
     "5faebb75f07148fca515e5e4d72a9e26": {
      "model_module": "@jupyter-widgets/base",
      "model_module_version": "1.2.0",
      "model_name": "LayoutModel",
      "state": {
       "_model_module": "@jupyter-widgets/base",
       "_model_module_version": "1.2.0",
       "_model_name": "LayoutModel",
       "_view_count": null,
       "_view_module": "@jupyter-widgets/base",
       "_view_module_version": "1.2.0",
       "_view_name": "LayoutView",
       "align_content": null,
       "align_items": null,
       "align_self": null,
       "border": null,
       "bottom": null,
       "display": null,
       "flex": null,
       "flex_flow": null,
       "grid_area": null,
       "grid_auto_columns": null,
       "grid_auto_flow": null,
       "grid_auto_rows": null,
       "grid_column": null,
       "grid_gap": null,
       "grid_row": null,
       "grid_template_areas": null,
       "grid_template_columns": null,
       "grid_template_rows": null,
       "height": null,
       "justify_content": null,
       "justify_items": null,
       "left": null,
       "margin": null,
       "max_height": null,
       "max_width": null,
       "min_height": null,
       "min_width": null,
       "object_fit": null,
       "object_position": null,
       "order": null,
       "overflow": null,
       "overflow_x": null,
       "overflow_y": null,
       "padding": null,
       "right": null,
       "top": null,
       "visibility": null,
       "width": null
      }
     },
     "60a533bb74804344b7e871fbf50d7630": {
      "model_module": "@jupyter-widgets/controls",
      "model_module_version": "1.5.0",
      "model_name": "HTMLModel",
      "state": {
       "_dom_classes": [],
       "_model_module": "@jupyter-widgets/controls",
       "_model_module_version": "1.5.0",
       "_model_name": "HTMLModel",
       "_view_count": null,
       "_view_module": "@jupyter-widgets/controls",
       "_view_module_version": "1.5.0",
       "_view_name": "HTMLView",
       "description": "",
       "description_tooltip": null,
       "layout": "IPY_MODEL_3c0e879486d5463db0fa09977f4f5e7b",
       "placeholder": "​",
       "style": "IPY_MODEL_98f6f531ccd643d09a69140d13b76379",
       "value": " 1/1 [00:02&lt;00:00,  2.40s/it]"
      }
     },
     "6379beb1c16740269e13f8731b3b5f8b": {
      "model_module": "@jupyter-widgets/controls",
      "model_module_version": "1.5.0",
      "model_name": "HBoxModel",
      "state": {
       "_dom_classes": [],
       "_model_module": "@jupyter-widgets/controls",
       "_model_module_version": "1.5.0",
       "_model_name": "HBoxModel",
       "_view_count": null,
       "_view_module": "@jupyter-widgets/controls",
       "_view_module_version": "1.5.0",
       "_view_name": "HBoxView",
       "box_style": "",
       "children": [
        "IPY_MODEL_837225552aef4717b0ab001ff292f72d",
        "IPY_MODEL_997750a67ac645548adf9d6cc5a2c1dd",
        "IPY_MODEL_bd972d756dfe46978be7bb973f690392"
       ],
       "layout": "IPY_MODEL_ab6133b8ef4f45cfa84344f070d4447f"
      }
     },
     "731d09ee1159493095283eac20e86c4d": {
      "model_module": "@jupyter-widgets/controls",
      "model_module_version": "1.5.0",
      "model_name": "FloatProgressModel",
      "state": {
       "_dom_classes": [],
       "_model_module": "@jupyter-widgets/controls",
       "_model_module_version": "1.5.0",
       "_model_name": "FloatProgressModel",
       "_view_count": null,
       "_view_module": "@jupyter-widgets/controls",
       "_view_module_version": "1.5.0",
       "_view_name": "ProgressView",
       "bar_style": "success",
       "description": "",
       "description_tooltip": null,
       "layout": "IPY_MODEL_5faebb75f07148fca515e5e4d72a9e26",
       "max": 17,
       "min": 0,
       "orientation": "horizontal",
       "style": "IPY_MODEL_2476936f36354c0582cf209811858769",
       "value": 17
      }
     },
     "74d2f123669f4151bf9fd59456f355ba": {
      "model_module": "@jupyter-widgets/controls",
      "model_module_version": "1.5.0",
      "model_name": "HBoxModel",
      "state": {
       "_dom_classes": [],
       "_model_module": "@jupyter-widgets/controls",
       "_model_module_version": "1.5.0",
       "_model_name": "HBoxModel",
       "_view_count": null,
       "_view_module": "@jupyter-widgets/controls",
       "_view_module_version": "1.5.0",
       "_view_name": "HBoxView",
       "box_style": "",
       "children": [
        "IPY_MODEL_a06bfab18f1d49a6a4c0a87c360992c8",
        "IPY_MODEL_731d09ee1159493095283eac20e86c4d",
        "IPY_MODEL_cbd80b044afc4e96b1667ab76a3a1f74"
       ],
       "layout": "IPY_MODEL_7a11aa9b2ecb445a8fc14cc89f06ea13"
      }
     },
     "79579de4686940fb87277980fb3b9033": {
      "model_module": "@jupyter-widgets/controls",
      "model_module_version": "1.5.0",
      "model_name": "HTMLModel",
      "state": {
       "_dom_classes": [],
       "_model_module": "@jupyter-widgets/controls",
       "_model_module_version": "1.5.0",
       "_model_name": "HTMLModel",
       "_view_count": null,
       "_view_module": "@jupyter-widgets/controls",
       "_view_module_version": "1.5.0",
       "_view_name": "HTMLView",
       "description": "",
       "description_tooltip": null,
       "layout": "IPY_MODEL_b0c4c0c11c45494db725902cd5bfb08c",
       "placeholder": "​",
       "style": "IPY_MODEL_f53f890fe98e493a96efcc400345b6b2",
       "value": "Generate report structure: 100%"
      }
     },
     "7a11aa9b2ecb445a8fc14cc89f06ea13": {
      "model_module": "@jupyter-widgets/base",
      "model_module_version": "1.2.0",
      "model_name": "LayoutModel",
      "state": {
       "_model_module": "@jupyter-widgets/base",
       "_model_module_version": "1.2.0",
       "_model_name": "LayoutModel",
       "_view_count": null,
       "_view_module": "@jupyter-widgets/base",
       "_view_module_version": "1.2.0",
       "_view_name": "LayoutView",
       "align_content": null,
       "align_items": null,
       "align_self": null,
       "border": null,
       "bottom": null,
       "display": null,
       "flex": null,
       "flex_flow": null,
       "grid_area": null,
       "grid_auto_columns": null,
       "grid_auto_flow": null,
       "grid_auto_rows": null,
       "grid_column": null,
       "grid_gap": null,
       "grid_row": null,
       "grid_template_areas": null,
       "grid_template_columns": null,
       "grid_template_rows": null,
       "height": null,
       "justify_content": null,
       "justify_items": null,
       "left": null,
       "margin": null,
       "max_height": null,
       "max_width": null,
       "min_height": null,
       "min_width": null,
       "object_fit": null,
       "object_position": null,
       "order": null,
       "overflow": null,
       "overflow_x": null,
       "overflow_y": null,
       "padding": null,
       "right": null,
       "top": null,
       "visibility": null,
       "width": null
      }
     },
     "7ea526b1e9bd43cdb270777b5f62a95e": {
      "model_module": "@jupyter-widgets/controls",
      "model_module_version": "1.5.0",
      "model_name": "HTMLModel",
      "state": {
       "_dom_classes": [],
       "_model_module": "@jupyter-widgets/controls",
       "_model_module_version": "1.5.0",
       "_model_name": "HTMLModel",
       "_view_count": null,
       "_view_module": "@jupyter-widgets/controls",
       "_view_module_version": "1.5.0",
       "_view_name": "HTMLView",
       "description": "",
       "description_tooltip": null,
       "layout": "IPY_MODEL_ca8a709aac3f4afe9aac06b72112076f",
       "placeholder": "​",
       "style": "IPY_MODEL_c33355f13dfd4f4599031ef8f8db5f53",
       "value": "Render HTML: 100%"
      }
     },
     "837225552aef4717b0ab001ff292f72d": {
      "model_module": "@jupyter-widgets/controls",
      "model_module_version": "1.5.0",
      "model_name": "HTMLModel",
      "state": {
       "_dom_classes": [],
       "_model_module": "@jupyter-widgets/controls",
       "_model_module_version": "1.5.0",
       "_model_name": "HTMLModel",
       "_view_count": null,
       "_view_module": "@jupyter-widgets/controls",
       "_view_module_version": "1.5.0",
       "_view_name": "HTMLView",
       "description": "",
       "description_tooltip": null,
       "layout": "IPY_MODEL_59f46be901ef49cea5e361a23bc258f0",
       "placeholder": "​",
       "style": "IPY_MODEL_a4c35dfafabb40199a5c4c0ce5a14b0c",
       "value": "Export report to file: 100%"
      }
     },
     "896278c20baf49bc9483c86dbe28e6db": {
      "model_module": "@jupyter-widgets/base",
      "model_module_version": "1.2.0",
      "model_name": "LayoutModel",
      "state": {
       "_model_module": "@jupyter-widgets/base",
       "_model_module_version": "1.2.0",
       "_model_name": "LayoutModel",
       "_view_count": null,
       "_view_module": "@jupyter-widgets/base",
       "_view_module_version": "1.2.0",
       "_view_name": "LayoutView",
       "align_content": null,
       "align_items": null,
       "align_self": null,
       "border": null,
       "bottom": null,
       "display": null,
       "flex": null,
       "flex_flow": null,
       "grid_area": null,
       "grid_auto_columns": null,
       "grid_auto_flow": null,
       "grid_auto_rows": null,
       "grid_column": null,
       "grid_gap": null,
       "grid_row": null,
       "grid_template_areas": null,
       "grid_template_columns": null,
       "grid_template_rows": null,
       "height": null,
       "justify_content": null,
       "justify_items": null,
       "left": null,
       "margin": null,
       "max_height": null,
       "max_width": null,
       "min_height": null,
       "min_width": null,
       "object_fit": null,
       "object_position": null,
       "order": null,
       "overflow": null,
       "overflow_x": null,
       "overflow_y": null,
       "padding": null,
       "right": null,
       "top": null,
       "visibility": null,
       "width": null
      }
     },
     "98f6f531ccd643d09a69140d13b76379": {
      "model_module": "@jupyter-widgets/controls",
      "model_module_version": "1.5.0",
      "model_name": "DescriptionStyleModel",
      "state": {
       "_model_module": "@jupyter-widgets/controls",
       "_model_module_version": "1.5.0",
       "_model_name": "DescriptionStyleModel",
       "_view_count": null,
       "_view_module": "@jupyter-widgets/base",
       "_view_module_version": "1.2.0",
       "_view_name": "StyleView",
       "description_width": ""
      }
     },
     "997750a67ac645548adf9d6cc5a2c1dd": {
      "model_module": "@jupyter-widgets/controls",
      "model_module_version": "1.5.0",
      "model_name": "FloatProgressModel",
      "state": {
       "_dom_classes": [],
       "_model_module": "@jupyter-widgets/controls",
       "_model_module_version": "1.5.0",
       "_model_name": "FloatProgressModel",
       "_view_count": null,
       "_view_module": "@jupyter-widgets/controls",
       "_view_module_version": "1.5.0",
       "_view_name": "ProgressView",
       "bar_style": "success",
       "description": "",
       "description_tooltip": null,
       "layout": "IPY_MODEL_3047235624bd4df4b992d459afbad807",
       "max": 1,
       "min": 0,
       "orientation": "horizontal",
       "style": "IPY_MODEL_f71a3435837f4fdd8eee21023f928dc2",
       "value": 1
      }
     },
     "a06bfab18f1d49a6a4c0a87c360992c8": {
      "model_module": "@jupyter-widgets/controls",
      "model_module_version": "1.5.0",
      "model_name": "HTMLModel",
      "state": {
       "_dom_classes": [],
       "_model_module": "@jupyter-widgets/controls",
       "_model_module_version": "1.5.0",
       "_model_name": "HTMLModel",
       "_view_count": null,
       "_view_module": "@jupyter-widgets/controls",
       "_view_module_version": "1.5.0",
       "_view_name": "HTMLView",
       "description": "",
       "description_tooltip": null,
       "layout": "IPY_MODEL_137e5d876fda44a481e04a46ce3d52c5",
       "placeholder": "​",
       "style": "IPY_MODEL_a757f29997924f8d97c5b33d53a151cd",
       "value": "Summarize dataset: 100%"
      }
     },
     "a4c35dfafabb40199a5c4c0ce5a14b0c": {
      "model_module": "@jupyter-widgets/controls",
      "model_module_version": "1.5.0",
      "model_name": "DescriptionStyleModel",
      "state": {
       "_model_module": "@jupyter-widgets/controls",
       "_model_module_version": "1.5.0",
       "_model_name": "DescriptionStyleModel",
       "_view_count": null,
       "_view_module": "@jupyter-widgets/base",
       "_view_module_version": "1.2.0",
       "_view_name": "StyleView",
       "description_width": ""
      }
     },
     "a757f29997924f8d97c5b33d53a151cd": {
      "model_module": "@jupyter-widgets/controls",
      "model_module_version": "1.5.0",
      "model_name": "DescriptionStyleModel",
      "state": {
       "_model_module": "@jupyter-widgets/controls",
       "_model_module_version": "1.5.0",
       "_model_name": "DescriptionStyleModel",
       "_view_count": null,
       "_view_module": "@jupyter-widgets/base",
       "_view_module_version": "1.2.0",
       "_view_name": "StyleView",
       "description_width": ""
      }
     },
     "ab6133b8ef4f45cfa84344f070d4447f": {
      "model_module": "@jupyter-widgets/base",
      "model_module_version": "1.2.0",
      "model_name": "LayoutModel",
      "state": {
       "_model_module": "@jupyter-widgets/base",
       "_model_module_version": "1.2.0",
       "_model_name": "LayoutModel",
       "_view_count": null,
       "_view_module": "@jupyter-widgets/base",
       "_view_module_version": "1.2.0",
       "_view_name": "LayoutView",
       "align_content": null,
       "align_items": null,
       "align_self": null,
       "border": null,
       "bottom": null,
       "display": null,
       "flex": null,
       "flex_flow": null,
       "grid_area": null,
       "grid_auto_columns": null,
       "grid_auto_flow": null,
       "grid_auto_rows": null,
       "grid_column": null,
       "grid_gap": null,
       "grid_row": null,
       "grid_template_areas": null,
       "grid_template_columns": null,
       "grid_template_rows": null,
       "height": null,
       "justify_content": null,
       "justify_items": null,
       "left": null,
       "margin": null,
       "max_height": null,
       "max_width": null,
       "min_height": null,
       "min_width": null,
       "object_fit": null,
       "object_position": null,
       "order": null,
       "overflow": null,
       "overflow_x": null,
       "overflow_y": null,
       "padding": null,
       "right": null,
       "top": null,
       "visibility": null,
       "width": null
      }
     },
     "b0c4c0c11c45494db725902cd5bfb08c": {
      "model_module": "@jupyter-widgets/base",
      "model_module_version": "1.2.0",
      "model_name": "LayoutModel",
      "state": {
       "_model_module": "@jupyter-widgets/base",
       "_model_module_version": "1.2.0",
       "_model_name": "LayoutModel",
       "_view_count": null,
       "_view_module": "@jupyter-widgets/base",
       "_view_module_version": "1.2.0",
       "_view_name": "LayoutView",
       "align_content": null,
       "align_items": null,
       "align_self": null,
       "border": null,
       "bottom": null,
       "display": null,
       "flex": null,
       "flex_flow": null,
       "grid_area": null,
       "grid_auto_columns": null,
       "grid_auto_flow": null,
       "grid_auto_rows": null,
       "grid_column": null,
       "grid_gap": null,
       "grid_row": null,
       "grid_template_areas": null,
       "grid_template_columns": null,
       "grid_template_rows": null,
       "height": null,
       "justify_content": null,
       "justify_items": null,
       "left": null,
       "margin": null,
       "max_height": null,
       "max_width": null,
       "min_height": null,
       "min_width": null,
       "object_fit": null,
       "object_position": null,
       "order": null,
       "overflow": null,
       "overflow_x": null,
       "overflow_y": null,
       "padding": null,
       "right": null,
       "top": null,
       "visibility": null,
       "width": null
      }
     },
     "b810367f103a4e4e9c5be322df67d4c9": {
      "model_module": "@jupyter-widgets/base",
      "model_module_version": "1.2.0",
      "model_name": "LayoutModel",
      "state": {
       "_model_module": "@jupyter-widgets/base",
       "_model_module_version": "1.2.0",
       "_model_name": "LayoutModel",
       "_view_count": null,
       "_view_module": "@jupyter-widgets/base",
       "_view_module_version": "1.2.0",
       "_view_name": "LayoutView",
       "align_content": null,
       "align_items": null,
       "align_self": null,
       "border": null,
       "bottom": null,
       "display": null,
       "flex": null,
       "flex_flow": null,
       "grid_area": null,
       "grid_auto_columns": null,
       "grid_auto_flow": null,
       "grid_auto_rows": null,
       "grid_column": null,
       "grid_gap": null,
       "grid_row": null,
       "grid_template_areas": null,
       "grid_template_columns": null,
       "grid_template_rows": null,
       "height": null,
       "justify_content": null,
       "justify_items": null,
       "left": null,
       "margin": null,
       "max_height": null,
       "max_width": null,
       "min_height": null,
       "min_width": null,
       "object_fit": null,
       "object_position": null,
       "order": null,
       "overflow": null,
       "overflow_x": null,
       "overflow_y": null,
       "padding": null,
       "right": null,
       "top": null,
       "visibility": null,
       "width": null
      }
     },
     "bd972d756dfe46978be7bb973f690392": {
      "model_module": "@jupyter-widgets/controls",
      "model_module_version": "1.5.0",
      "model_name": "HTMLModel",
      "state": {
       "_dom_classes": [],
       "_model_module": "@jupyter-widgets/controls",
       "_model_module_version": "1.5.0",
       "_model_name": "HTMLModel",
       "_view_count": null,
       "_view_module": "@jupyter-widgets/controls",
       "_view_module_version": "1.5.0",
       "_view_name": "HTMLView",
       "description": "",
       "description_tooltip": null,
       "layout": "IPY_MODEL_22828e38a6f84e388c66ed37fd49e1a3",
       "placeholder": "​",
       "style": "IPY_MODEL_ca9b1619f3f348178c14a36e88ae3d9b",
       "value": " 1/1 [00:00&lt;00:00, 33.29it/s]"
      }
     },
     "c33355f13dfd4f4599031ef8f8db5f53": {
      "model_module": "@jupyter-widgets/controls",
      "model_module_version": "1.5.0",
      "model_name": "DescriptionStyleModel",
      "state": {
       "_model_module": "@jupyter-widgets/controls",
       "_model_module_version": "1.5.0",
       "_model_name": "DescriptionStyleModel",
       "_view_count": null,
       "_view_module": "@jupyter-widgets/base",
       "_view_module_version": "1.2.0",
       "_view_name": "StyleView",
       "description_width": ""
      }
     },
     "c800f4d86d7f4cb595f97bdd36d14c8f": {
      "model_module": "@jupyter-widgets/base",
      "model_module_version": "1.2.0",
      "model_name": "LayoutModel",
      "state": {
       "_model_module": "@jupyter-widgets/base",
       "_model_module_version": "1.2.0",
       "_model_name": "LayoutModel",
       "_view_count": null,
       "_view_module": "@jupyter-widgets/base",
       "_view_module_version": "1.2.0",
       "_view_name": "LayoutView",
       "align_content": null,
       "align_items": null,
       "align_self": null,
       "border": null,
       "bottom": null,
       "display": null,
       "flex": null,
       "flex_flow": null,
       "grid_area": null,
       "grid_auto_columns": null,
       "grid_auto_flow": null,
       "grid_auto_rows": null,
       "grid_column": null,
       "grid_gap": null,
       "grid_row": null,
       "grid_template_areas": null,
       "grid_template_columns": null,
       "grid_template_rows": null,
       "height": null,
       "justify_content": null,
       "justify_items": null,
       "left": null,
       "margin": null,
       "max_height": null,
       "max_width": null,
       "min_height": null,
       "min_width": null,
       "object_fit": null,
       "object_position": null,
       "order": null,
       "overflow": null,
       "overflow_x": null,
       "overflow_y": null,
       "padding": null,
       "right": null,
       "top": null,
       "visibility": null,
       "width": null
      }
     },
     "ca8a709aac3f4afe9aac06b72112076f": {
      "model_module": "@jupyter-widgets/base",
      "model_module_version": "1.2.0",
      "model_name": "LayoutModel",
      "state": {
       "_model_module": "@jupyter-widgets/base",
       "_model_module_version": "1.2.0",
       "_model_name": "LayoutModel",
       "_view_count": null,
       "_view_module": "@jupyter-widgets/base",
       "_view_module_version": "1.2.0",
       "_view_name": "LayoutView",
       "align_content": null,
       "align_items": null,
       "align_self": null,
       "border": null,
       "bottom": null,
       "display": null,
       "flex": null,
       "flex_flow": null,
       "grid_area": null,
       "grid_auto_columns": null,
       "grid_auto_flow": null,
       "grid_auto_rows": null,
       "grid_column": null,
       "grid_gap": null,
       "grid_row": null,
       "grid_template_areas": null,
       "grid_template_columns": null,
       "grid_template_rows": null,
       "height": null,
       "justify_content": null,
       "justify_items": null,
       "left": null,
       "margin": null,
       "max_height": null,
       "max_width": null,
       "min_height": null,
       "min_width": null,
       "object_fit": null,
       "object_position": null,
       "order": null,
       "overflow": null,
       "overflow_x": null,
       "overflow_y": null,
       "padding": null,
       "right": null,
       "top": null,
       "visibility": null,
       "width": null
      }
     },
     "ca9b1619f3f348178c14a36e88ae3d9b": {
      "model_module": "@jupyter-widgets/controls",
      "model_module_version": "1.5.0",
      "model_name": "DescriptionStyleModel",
      "state": {
       "_model_module": "@jupyter-widgets/controls",
       "_model_module_version": "1.5.0",
       "_model_name": "DescriptionStyleModel",
       "_view_count": null,
       "_view_module": "@jupyter-widgets/base",
       "_view_module_version": "1.2.0",
       "_view_name": "StyleView",
       "description_width": ""
      }
     },
     "cbd80b044afc4e96b1667ab76a3a1f74": {
      "model_module": "@jupyter-widgets/controls",
      "model_module_version": "1.5.0",
      "model_name": "HTMLModel",
      "state": {
       "_dom_classes": [],
       "_model_module": "@jupyter-widgets/controls",
       "_model_module_version": "1.5.0",
       "_model_name": "HTMLModel",
       "_view_count": null,
       "_view_module": "@jupyter-widgets/controls",
       "_view_module_version": "1.5.0",
       "_view_name": "HTMLView",
       "description": "",
       "description_tooltip": null,
       "layout": "IPY_MODEL_421538af4b344eb285a1049283fceb43",
       "placeholder": "​",
       "style": "IPY_MODEL_03486abb248b48dcae43183c9ffb112a",
       "value": " 17/17 [00:05&lt;00:00,  2.09it/s, Completed]"
      }
     },
     "d097f3c35ec644bfa231be2d2fd50129": {
      "model_module": "@jupyter-widgets/base",
      "model_module_version": "1.2.0",
      "model_name": "LayoutModel",
      "state": {
       "_model_module": "@jupyter-widgets/base",
       "_model_module_version": "1.2.0",
       "_model_name": "LayoutModel",
       "_view_count": null,
       "_view_module": "@jupyter-widgets/base",
       "_view_module_version": "1.2.0",
       "_view_name": "LayoutView",
       "align_content": null,
       "align_items": null,
       "align_self": null,
       "border": null,
       "bottom": null,
       "display": null,
       "flex": null,
       "flex_flow": null,
       "grid_area": null,
       "grid_auto_columns": null,
       "grid_auto_flow": null,
       "grid_auto_rows": null,
       "grid_column": null,
       "grid_gap": null,
       "grid_row": null,
       "grid_template_areas": null,
       "grid_template_columns": null,
       "grid_template_rows": null,
       "height": null,
       "justify_content": null,
       "justify_items": null,
       "left": null,
       "margin": null,
       "max_height": null,
       "max_width": null,
       "min_height": null,
       "min_width": null,
       "object_fit": null,
       "object_position": null,
       "order": null,
       "overflow": null,
       "overflow_x": null,
       "overflow_y": null,
       "padding": null,
       "right": null,
       "top": null,
       "visibility": null,
       "width": null
      }
     },
     "ebd7ac3b623a410a88be5c4d72e48986": {
      "model_module": "@jupyter-widgets/controls",
      "model_module_version": "1.5.0",
      "model_name": "DescriptionStyleModel",
      "state": {
       "_model_module": "@jupyter-widgets/controls",
       "_model_module_version": "1.5.0",
       "_model_name": "DescriptionStyleModel",
       "_view_count": null,
       "_view_module": "@jupyter-widgets/base",
       "_view_module_version": "1.2.0",
       "_view_name": "StyleView",
       "description_width": ""
      }
     },
     "f53f890fe98e493a96efcc400345b6b2": {
      "model_module": "@jupyter-widgets/controls",
      "model_module_version": "1.5.0",
      "model_name": "DescriptionStyleModel",
      "state": {
       "_model_module": "@jupyter-widgets/controls",
       "_model_module_version": "1.5.0",
       "_model_name": "DescriptionStyleModel",
       "_view_count": null,
       "_view_module": "@jupyter-widgets/base",
       "_view_module_version": "1.2.0",
       "_view_name": "StyleView",
       "description_width": ""
      }
     },
     "f71a3435837f4fdd8eee21023f928dc2": {
      "model_module": "@jupyter-widgets/controls",
      "model_module_version": "1.5.0",
      "model_name": "ProgressStyleModel",
      "state": {
       "_model_module": "@jupyter-widgets/controls",
       "_model_module_version": "1.5.0",
       "_model_name": "ProgressStyleModel",
       "_view_count": null,
       "_view_module": "@jupyter-widgets/base",
       "_view_module_version": "1.2.0",
       "_view_name": "StyleView",
       "bar_color": null,
       "description_width": ""
      }
     }
    },
    "version_major": 2,
    "version_minor": 0
   }
  }
 },
 "nbformat": 4,
 "nbformat_minor": 5
}
